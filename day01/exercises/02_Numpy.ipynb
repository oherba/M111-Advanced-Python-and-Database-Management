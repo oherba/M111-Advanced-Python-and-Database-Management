{
 "cells": [
  {
   "cell_type": "markdown",
   "metadata": {},
   "source": [
    "# Exercices for Numpy"
   ]
  },
  {
   "cell_type": "markdown",
   "metadata": {},
   "source": [
    "1- Import numpy as `np` and print the version number. "
   ]
  },
  {
   "cell_type": "code",
   "execution_count": 1,
   "metadata": {},
   "outputs": [
    {
     "data": {
      "text/plain": [
       "'1.19.4'"
      ]
     },
     "execution_count": 1,
     "metadata": {},
     "output_type": "execute_result"
    }
   ],
   "source": [
    "import numpy as np\n",
    "np.__version__"
   ]
  },
  {
   "cell_type": "markdown",
   "metadata": {},
   "source": [
    "2- Create a 1D array of numbers from 0 to 9 \n",
    "- Desired output:\n",
    "```Python\n",
    "#> array([0, 1, 2, 3, 4, 5, 6, 7, 8, 9])\n",
    "```"
   ]
  },
  {
   "cell_type": "code",
   "execution_count": 5,
   "metadata": {},
   "outputs": [
    {
     "name": "stdout",
     "output_type": "stream",
     "text": [
      "[0 1 2 3 4 5 6 7 8 9]\n"
     ]
    }
   ],
   "source": [
    "import numpy as np\n",
    "my_array = np.arange(10)\n",
    "print (my_array)"
   ]
  },
  {
   "cell_type": "code",
   "execution_count": null,
   "metadata": {},
   "outputs": [],
   "source": []
  },
  {
   "cell_type": "markdown",
   "metadata": {},
   "source": [
    "3- Create a 3×3 numpy array of all True’s\n",
    "- Desired output:\n",
    "```Python\n",
    "#> array([[ True,  True,  True],\n",
    "#>        [ True,  True,  True],\n",
    "#>        [ True,  True,  True]], dtype=bool)\n",
    "```"
   ]
  },
  {
   "cell_type": "code",
   "execution_count": 6,
   "metadata": {},
   "outputs": [
    {
     "name": "stdout",
     "output_type": "stream",
     "text": [
      "[[ True  True  True]\n",
      " [ True  True  True]\n",
      " [ True  True  True]]\n"
     ]
    }
   ],
   "source": [
    "import numpy as np\n",
    "my_2d_array = np.full((3, 3), True)\n",
    "print (my_2d_array)"
   ]
  },
  {
   "cell_type": "markdown",
   "metadata": {},
   "source": [
    "4- Extract all odd numbers from `arr` \n",
    "- Input:\n",
    "```Python\n",
    "#> arr = np.array([0, 1, 2, 3, 4, 5, 6, 7, 8, 9])\n",
    "```\n",
    "- Desired output:\n",
    "```Python\n",
    "#> array([1, 3, 5, 7, 9])\n",
    "```"
   ]
  },
  {
   "cell_type": "code",
   "execution_count": 7,
   "metadata": {},
   "outputs": [
    {
     "name": "stdout",
     "output_type": "stream",
     "text": [
      "[1 3 5 7 9]\n",
      "[1 3 5 7 9]\n"
     ]
    }
   ],
   "source": [
    "import numpy as np\n",
    "arr = np.array([0, 1, 2, 3, 4, 5, 6, 7, 8, 9])\n",
    "odd_array = np.array([],dtype=int)\n",
    "\n",
    "#METHOD ONE USING FOR LOOP AND CONDITION\n",
    "for element in arr:\n",
    "    if((element % 2) != 0):\n",
    "        odd_array = np.append(odd_array, element)\n",
    "print(odd_array)\n",
    "\n",
    "#THE SECOND  IS LOOPLESS METHOD , FILTER THE array USING A BOOLEAN INDEX LIST\n",
    "filter_arr = (arr % 2) != 0\n",
    "newarr = arr[filter_arr]\n",
    "print(newarr)\n"
   ]
  },
  {
   "cell_type": "markdown",
   "metadata": {},
   "source": [
    "5- Replace all odd numbers in arr with -1\n",
    "- Input:\n",
    "```Python\n",
    "#> arr = np.array([0, 1, 2, 3, 4, 5, 6, 7, 8, 9])\n",
    "```\n",
    "- Desired output:\n",
    "```Python\n",
    "#>  array([ 0, -1,  2, -1,  4, -1,  6, -1,  8, -1])\n",
    "```"
   ]
  },
  {
   "cell_type": "code",
   "execution_count": 8,
   "metadata": {},
   "outputs": [
    {
     "name": "stdout",
     "output_type": "stream",
     "text": [
      "[ 0 -1  2 -1  4 -1  6 -1  8 -1]\n"
     ]
    }
   ],
   "source": [
    "# Your code here\n",
    "import numpy as np\n",
    "arr = np.array([0, 1, 2, 3, 4, 5, 6, 7, 8, 9])\n",
    "arr[(arr % 2) != 0] = -1\n",
    "print(arr)"
   ]
  },
  {
   "cell_type": "markdown",
   "metadata": {},
   "source": [
    "6- Replace all odd numbers in arr with -1 without changing `arr` \n",
    "- Input:\n",
    "```Python\n",
    "#> arr = np.array([0, 1, 2, 3, 4, 5, 6, 7, 8, 9])\n",
    "```\n",
    "- Desired output:\n",
    "```Python\n",
    "out\n",
    "#>  array([ 0, -1,  2, -1,  4, -1,  6, -1,  8, -1])\n",
    "arr\n",
    "#>  array([0, 1, 2, 3, 4, 5, 6, 7, 8, 9])\n",
    "```"
   ]
  },
  {
   "cell_type": "code",
   "execution_count": 9,
   "metadata": {},
   "outputs": [
    {
     "name": "stdout",
     "output_type": "stream",
     "text": [
      "[0 1 2 3 4 5 6 7 8 9]\n",
      "[ 0 -1  2 -1  4 -1  6 -1  8 -1]\n"
     ]
    }
   ],
   "source": [
    "# Your code here\n",
    "import numpy as np\n",
    "arr = np.array([0, 1, 2, 3, 4, 5, 6, 7, 8, 9])\n",
    "arr_clone = np.copy(arr)\n",
    "arr_clone[(arr_clone % 2) != 0] = -1\n",
    "print(arr)\n",
    "print(arr_clone)\n"
   ]
  },
  {
   "cell_type": "markdown",
   "metadata": {},
   "source": [
    "7- Convert a 1D array to a 2D array with 2 rows\n",
    "- Input:\n",
    "```Python\n",
    "#> arr = np.array([0, 1, 2, 3, 4, 5, 6, 7, 8, 9])\n",
    "```\n",
    "- Desired output:\n",
    "```Python\n",
    "#> array([[0, 1, 2, 3, 4],\n",
    "#>        [5, 6, 7, 8, 9]])\n",
    "```"
   ]
  },
  {
   "cell_type": "code",
   "execution_count": 10,
   "metadata": {},
   "outputs": [
    {
     "name": "stdout",
     "output_type": "stream",
     "text": [
      "[[0 1 2 3 4]\n",
      " [5 6 7 8 9]]\n"
     ]
    }
   ],
   "source": [
    "# Your code here\n",
    "import numpy as np\n",
    "arr = np.array([0, 1, 2, 3, 4, 5, 6, 7, 8, 9])\n",
    "reshaped_arr = np.reshape(arr, (2,5))\n",
    "print(reshaped_arr)"
   ]
  },
  {
   "cell_type": "markdown",
   "metadata": {},
   "source": [
    "8- Stack arrays `a` and `b` vertically \n",
    "- Input\n",
    "```Python\n",
    "a = np.arange(10).reshape(2,-1)\n",
    "b = np.repeat(1, 10).reshape(2,-1)\n",
    "```\n",
    "- Desired output:\n",
    "```Python\n",
    "#> array([[0, 1, 2, 3, 4],\n",
    "#>        [5, 6, 7, 8, 9],\n",
    "#>        [1, 1, 1, 1, 1],\n",
    "#>        [1, 1, 1, 1, 1]])\n",
    "```"
   ]
  },
  {
   "cell_type": "code",
   "execution_count": 11,
   "metadata": {},
   "outputs": [
    {
     "data": {
      "text/plain": [
       "array([[0, 1, 2, 3, 4],\n",
       "       [5, 6, 7, 8, 9],\n",
       "       [1, 1, 1, 1, 1],\n",
       "       [1, 1, 1, 1, 1]])"
      ]
     },
     "execution_count": 11,
     "metadata": {},
     "output_type": "execute_result"
    }
   ],
   "source": [
    "# Your code here\n",
    "import numpy as np\n",
    "a = np.arange(10).reshape(2,-1)\n",
    "b = np.repeat(1, 10).reshape(2,-1)\n",
    "np.vstack((a,b))"
   ]
  },
  {
   "cell_type": "markdown",
   "metadata": {},
   "source": [
    "9- Stack the arrays a and b horizontally.\n",
    "- Input\n",
    "```Python\n",
    "a = np.arange(10).reshape(2,-1)\n",
    "b = np.repeat(1, 10).reshape(2,-1)\n",
    "```\n",
    "- Desired output:\n",
    "```Python\n",
    "#> array([[0, 1, 2, 3, 4, 1, 1, 1, 1, 1],\n",
    "#>        [5, 6, 7, 8, 9, 1, 1, 1, 1, 1]])\n",
    "```"
   ]
  },
  {
   "cell_type": "code",
   "execution_count": 12,
   "metadata": {},
   "outputs": [
    {
     "data": {
      "text/plain": [
       "array([[0, 1, 2, 3, 4, 1, 1, 1, 1, 1],\n",
       "       [5, 6, 7, 8, 9, 1, 1, 1, 1, 1]])"
      ]
     },
     "execution_count": 12,
     "metadata": {},
     "output_type": "execute_result"
    }
   ],
   "source": [
    "# Your code here\n",
    "import numpy as np\n",
    "a = np.arange(10).reshape(2,-1)\n",
    "b = np.repeat(1, 10).reshape(2,-1)\n",
    "np.hstack((a,b))"
   ]
  },
  {
   "cell_type": "markdown",
   "metadata": {},
   "source": [
    "## 10- Get the common items between `a` and `b` \n",
    "- Input\n",
    "```Python\n",
    "a = np.array([1,2,3,4,5])\n",
    "b = np.array([2,6,7,8,4])\n",
    "```\n",
    "- Desired output:\n",
    "```Python\n",
    "#> array([2, 4])\n",
    "```"
   ]
  },
  {
   "cell_type": "code",
   "execution_count": 13,
   "metadata": {},
   "outputs": [
    {
     "data": {
      "text/plain": [
       "array([2, 4])"
      ]
     },
     "execution_count": 13,
     "metadata": {},
     "output_type": "execute_result"
    }
   ],
   "source": [
    "# Your code here\n",
    "import numpy as np\n",
    "a = np.array([1,2,3,4,5])\n",
    "b = np.array([2,6,7,8,4])\n",
    "np.intersect1d(a,b)"
   ]
  },
  {
   "cell_type": "markdown",
   "metadata": {},
   "source": [
    "### 11- From array `a` remove all items present in array `b` \n",
    "- Input\n",
    "```Python\n",
    "a = np.array([1,2,3,4,5])\n",
    "b = np.array([2,6,7,5,9])\n",
    "```\n",
    "- Desired output:\n",
    "```Python\n",
    "#> array([1,2,3,4])\n",
    "```"
   ]
  },
  {
   "cell_type": "code",
   "execution_count": 14,
   "metadata": {},
   "outputs": [
    {
     "data": {
      "text/plain": [
       "array([1, 3, 4])"
      ]
     },
     "execution_count": 14,
     "metadata": {},
     "output_type": "execute_result"
    }
   ],
   "source": [
    "# Your code here\n",
    "import numpy as np\n",
    "a = np.array([1,2,3,4,5])\n",
    "b = np.array([2,6,7,5,9])\n",
    "inter = np.intersect1d(a,b)\n",
    "for element in inter:\n",
    "    a = a[a != element]\n",
    "a\n"
   ]
  },
  {
   "cell_type": "markdown",
   "metadata": {},
   "source": [
    "12- Get the positions where elements of `a` and `b` match\n",
    "- Input\n",
    "```Python\n",
    "a = np.array([1,2,3,2,3,4,3,4,5,6])\n",
    "b = np.array([7,2,10,2,7,4,9,4,9,8])\n",
    "```\n",
    "- Desired output:\n",
    "```Python\n",
    "#> (array([1, 3, 5, 7]),)\n",
    "```"
   ]
  },
  {
   "cell_type": "code",
   "execution_count": 15,
   "metadata": {},
   "outputs": [
    {
     "name": "stdout",
     "output_type": "stream",
     "text": [
      "[1 3 5 7]\n"
     ]
    }
   ],
   "source": [
    "# Your code here\n",
    "import numpy as np\n",
    "a = np.array([1,2,3,2,3,4,3,4,5,6])\n",
    "b = np.array([7,2,10,2,7,4,9,4,9,8])\n",
    "p_match = np.array([],dtype=int)\n",
    "len_a = len(a)\n",
    "len_b = len(b)\n",
    "lenght = min(len_a, len_b)\n",
    "for i in range(lenght):\n",
    "    if(a[i] in b):\n",
    "       p_match =np.append(p_match,i)\n",
    "print(p_match)\n",
    "    "
   ]
  },
  {
   "cell_type": "markdown",
   "metadata": {},
   "source": [
    "13- Get all items between 5 and 10 from `a`\n",
    "- Input\n",
    "```Python\n",
    "a = np.array([2, 6, 1, 9, 10, 3, 27])\n",
    "```\n",
    "- Desired output:\n",
    "```Python\n",
    "#> (array([6, 9, 10]),)\n",
    "```"
   ]
  },
  {
   "cell_type": "code",
   "execution_count": 16,
   "metadata": {},
   "outputs": [
    {
     "data": {
      "text/plain": [
       "array([ 6,  9, 10])"
      ]
     },
     "execution_count": 16,
     "metadata": {},
     "output_type": "execute_result"
    }
   ],
   "source": [
    "# Your code here\n",
    "import numpy as np\n",
    "a = np.array([2, 6, 1, 9, 10, 3, 27])\n",
    "a = a[(a >= 5) & (a <= 10)]\n",
    "a\n"
   ]
  },
  {
   "cell_type": "markdown",
   "metadata": {},
   "source": [
    "14- Convert the function `maxx` that works on two scalars, to work on two arrays\n",
    "- Input\n",
    "```Python\n",
    "def maxx(x, y):\n",
    "    \"\"\"Get the maximum of two items\"\"\"\n",
    "    if x >= y:\n",
    "        return x\n",
    "    else:\n",
    "        return y\n",
    "```\n",
    "```Python\n",
    "maxx(1, 5)\n",
    "#> 5\n",
    "```\n",
    "\n",
    "- Desired output:\n",
    "\n",
    "```Python\n",
    "a = np.array([5, 7, 9, 8, 6, 4, 5])\n",
    "b = np.array([6, 3, 4, 8, 9, 7, 1])\n",
    "pair_max(a, b)\n",
    "#> array([ 6.,  7.,  9.,  8.,  9.,  7.,  5.])\n",
    "```"
   ]
  },
  {
   "cell_type": "code",
   "execution_count": 17,
   "metadata": {},
   "outputs": [
    {
     "data": {
      "text/plain": [
       "array([6., 7., 9., 8., 9., 7., 5.])"
      ]
     },
     "execution_count": 17,
     "metadata": {},
     "output_type": "execute_result"
    }
   ],
   "source": [
    "# Your code here\n",
    "import numpy as np\n",
    "a = np.array([5, 7, 9, 8, 6, 4, 5])\n",
    "b = np.array([6, 3, 4, 8, 9, 7, 1])\n",
    "def maxx(x, y):\n",
    "  \"\"\"Get the maximum of two items\"\"\"\n",
    "  if x >= y:\n",
    "      return x\n",
    "  else:\n",
    "      return y\n",
    "def pair_max(a,b):\n",
    "    max_arr= np.array([])\n",
    "    for i in range(len(a)):\n",
    "         max_arr=np.append( max_arr,maxx(a[i],b[i]))\n",
    "    return  max_arr\n",
    "pair_max(a,b)"
   ]
  },
  {
   "cell_type": "markdown",
   "metadata": {},
   "source": [
    "15- Reverse the rows of a 2D array `arr`\n",
    "- Input\n",
    "```Python\n",
    "arr = np.arange(9).reshape(3,3)\n",
    "```\n",
    "- Desired output:\n",
    "```Python\n",
    "#> array([[6, 7, 8],\n",
    "#>       [3, 4, 5],\n",
    "#>       [0, 1, 2]])\n",
    "```"
   ]
  },
  {
   "cell_type": "code",
   "execution_count": 18,
   "metadata": {},
   "outputs": [
    {
     "data": {
      "text/plain": [
       "array([[6, 7, 8],\n",
       "       [3, 4, 5],\n",
       "       [0, 1, 2]])"
      ]
     },
     "execution_count": 18,
     "metadata": {},
     "output_type": "execute_result"
    }
   ],
   "source": [
    "# Your code here\n",
    "import numpy as np\n",
    "arr = np.arange(9).reshape(3,3)\n",
    "reversedArr = np.flip(arr, axis=0)\n",
    "reversedArr"
   ]
  },
  {
   "cell_type": "markdown",
   "metadata": {},
   "source": [
    "16- Reverse the columns of a 2D array `arr`\n",
    "- Input\n",
    "```Python\n",
    "arr = np.arange(9).reshape(3,3)\n",
    "```\n",
    "- Desired output:\n",
    "```Python\n",
    "#> array([[2, 1, 0],\n",
    "#>       [5, 4, 3],\n",
    "#>       [8, 7, 6]]\n",
    "```"
   ]
  },
  {
   "cell_type": "code",
   "execution_count": 19,
   "metadata": {},
   "outputs": [
    {
     "data": {
      "text/plain": [
       "array([[2, 1, 0],\n",
       "       [5, 4, 3],\n",
       "       [8, 7, 6]])"
      ]
     },
     "execution_count": 19,
     "metadata": {},
     "output_type": "execute_result"
    }
   ],
   "source": [
    "# Your code here\n",
    "import numpy as np\n",
    "arr = np.arange(9).reshape(3,3)\n",
    "reversedArr = np.flip(arr, axis=1)\n",
    "reversedArr"
   ]
  },
  {
   "cell_type": "markdown",
   "metadata": {},
   "source": [
    "17- Create a 2D array of shape 5×3 to contain random decimal numbers between 5 and 10 (use `np.random.seed()` to generate the same random output).\n",
    "- Desired output: (for seed number equal 10)\n",
    "```Python\n",
    "#> array([[6.15037787, 9.68381843, 5.81660184],\n",
    "#>       [6.33607158, 8.89081653, 9.19812181],\n",
    "#>       [6.03061665, 5.87761494, 6.72743551],\n",
    "#>       [7.54088093, 5.13145815, 6.41366737],\n",
    "#>       [5.77872881, 7.58390137, 5.18263144]])\n",
    "```"
   ]
  },
  {
   "cell_type": "code",
   "execution_count": 20,
   "metadata": {},
   "outputs": [
    {
     "data": {
      "text/plain": [
       "array([[5.38154145, 8.89959396, 7.19204616],\n",
       "       [8.61732589, 9.88994756, 7.69247935],\n",
       "       [7.50560232, 5.36025567, 6.3421949 ],\n",
       "       [7.4994125 , 8.39614998, 9.01869518],\n",
       "       [6.90470567, 5.32968173, 6.440728  ]])"
      ]
     },
     "execution_count": 20,
     "metadata": {},
     "output_type": "execute_result"
    }
   ],
   "source": [
    "# Your code here\n",
    "import numpy as np\n",
    "import numpy as np\n",
    "np.random.seed(7)\n",
    "arr = np.random.uniform(5, 10,(5,3))\n",
    "arr\n",
    "\n"
   ]
  },
  {
   "cell_type": "markdown",
   "metadata": {},
   "source": [
    "18- Print or show only 3 decimal places of the numpy array `rand_arr`\n",
    "- Input\n",
    "```Python\n",
    "rand_arr = np.random.random((5,3))\n",
    "```\n",
    "- Desired output:\n",
    "```Python\n",
    "rand_arr[:4]\n",
    "#> array([[ 0.443,  0.109,  0.97 ],\n",
    "#>        [ 0.388,  0.447,  0.191],\n",
    "#>        [ 0.891,  0.474,  0.212],\n",
    "#>        [ 0.609,  0.518,  0.403]])\n",
    "```"
   ]
  },
  {
   "cell_type": "code",
   "execution_count": 21,
   "metadata": {},
   "outputs": [
    {
     "data": {
      "text/plain": [
       "array([[0.91 , 0.213, 0.452],\n",
       "       [0.931, 0.025, 0.601],\n",
       "       [0.95 , 0.23 , 0.548],\n",
       "       [0.909, 0.133, 0.523],\n",
       "       [0.75 , 0.669, 0.468]])"
      ]
     },
     "execution_count": 21,
     "metadata": {},
     "output_type": "execute_result"
    }
   ],
   "source": [
    "# Your code here\n",
    "import numpy as np\n",
    "rand_arr = np.random.random((5,3))\n",
    "np.set_printoptions(precision=3)\n",
    "rand_arr "
   ]
  },
  {
   "cell_type": "markdown",
   "metadata": {},
   "source": [
    "19- Pretty print `rand_arr` by suppressing the scientific notation (like 1e10) \n",
    "- Input\n",
    "\n",
    "```Python\n",
    "# Create the random array\n",
    "np.random.seed(100)\n",
    "rand_arr = np.random.random([3,3])/1e3\n",
    "```\n",
    "```Python\n",
    "rand_arr\n",
    "\n",
    "#> array([[  5.434049e-04,   2.783694e-04,   4.245176e-04],\n",
    "#>        [  8.447761e-04,   4.718856e-06,   1.215691e-04],\n",
    "#>        [  6.707491e-04,   8.258528e-04,   1.367066e-04]])\n",
    "```\n",
    "\n",
    "- Desired output:\n",
    "```python\n",
    "#> array([[ 0.000543,  0.000278,  0.000425],\n",
    "#>        [ 0.000845,  0.000005,  0.000122],\n",
    "#>        [ 0.000671,  0.000826,  0.000137]])\n",
    "```"
   ]
  },
  {
   "cell_type": "code",
   "execution_count": 27,
   "metadata": {},
   "outputs": [
    {
     "data": {
      "text/plain": [
       "array([[0.001, 0.   , 0.   ],\n",
       "       [0.001, 0.   , 0.   ],\n",
       "       [0.001, 0.001, 0.   ]])"
      ]
     },
     "execution_count": 27,
     "metadata": {},
     "output_type": "execute_result"
    }
   ],
   "source": [
    "# Your code here\n",
    "import numpy as np\n",
    "# Create the random array\n",
    "np.random.seed(100)\n",
    "rand_arr = np.random.random([3,3])/1e3\n",
    "np.set_printoptions(suppress=True)\n",
    "rand_arr"
   ]
  },
  {
   "cell_type": "markdown",
   "metadata": {},
   "source": [
    "20- Limit the number of items printed in python numpy array a to a maximum of 6 elements.\n",
    "- Input:\n",
    "```Python\n",
    "a = np.arange(15)\n",
    "#> array([ 0,  1,  2,  3,  4,  5,  6,  7,  8,  9, 10, 11, 12, 13, 14])\n",
    "```\n",
    "- Desired output:\n",
    "```Python\n",
    "#> array([ 0,  1,  2, ..., 12, 13, 14])\n",
    "```"
   ]
  },
  {
   "cell_type": "code",
   "execution_count": 44,
   "metadata": {},
   "outputs": [
    {
     "name": "stdout",
     "output_type": "stream",
     "text": [
      "[ 0  1  2 ... 12 13 14]\n"
     ]
    }
   ],
   "source": [
    "# Your code here\n",
    "import numpy as np\n",
    "a = np.arange(15)\n",
    "np.set_printoptions(edgeitems=3 , threshold=6)\n",
    "print(a)"
   ]
  },
  {
   "cell_type": "markdown",
   "metadata": {},
   "source": [
    "21- Convert the 1D iris to 2D array iris_2d by omitting the species text field.\n",
    "- Input:\n",
    "```Python\n",
    "url = 'https://archive.ics.uci.edu/ml/machine-learning-databases/iris/iris.data'\n",
    "iris_1d = np.genfromtxt(url, delimiter=',', dtype=None)\n",
    "```\n",
    "- Desired output:\n",
    "```Python\n",
    "#> array([[ 5.1,  3.5,  1.4,  0.2],\n",
    "#>        [ 4.9,  3. ,  1.4,  0.2],\n",
    "#>        [ 4.7,  3.2,  1.3,  0.2],\n",
    "#>        [ 4.6,  3.1,  1.5,  0.2]])\n",
    "```"
   ]
  },
  {
   "cell_type": "code",
   "execution_count": 86,
   "metadata": {},
   "outputs": [
    {
     "name": "stdout",
     "output_type": "stream",
     "text": [
      "[[5.1 3.5 1.4 0.2]\n",
      " [4.9 3.  1.4 0.2]\n",
      " [4.7 3.2 1.3 0.2]\n",
      " ...\n",
      " [6.5 3.  5.2 2. ]\n",
      " [6.2 3.4 5.4 2.3]\n",
      " [5.9 3.  5.1 1.8]]\n"
     ]
    }
   ],
   "source": [
    "# Your code here\n",
    "import numpy as np\n",
    "url = 'https://archive.ics.uci.edu/ml/machine-learning-databases/iris/iris.data'\n",
    "iris_1d = np.genfromtxt(url, delimiter=',', dtype=None, encoding=\"utf-8\")\n",
    "\n",
    "iris_2d = np.empty([len(iris_1d),4])\n",
    "i = 0\n",
    "\n",
    "for element in iris_1d:\n",
    "    iris_2d[i] = element.tolist()[:4]\n",
    "    i += 1\n",
    "print(iris_2d)\n",
    "\n"
   ]
  },
  {
   "cell_type": "markdown",
   "metadata": {},
   "source": [
    "22- Find the mean, median, standard deviation of iris's sepallength (1st column)\n",
    "- Input:\n",
    "```Python\n",
    "url = 'https://archive.ics.uci.edu/ml/machine-learning-databases/iris/iris.data'\n",
    "iris = np.genfromtxt(url, delimiter=',', dtype='object')\n",
    "```\n",
    "- Desired output:\n",
    "```Python\n",
    "print(mean, median, sd)\n",
    "#> 5.84333333333 5.8 0.825301291785\n",
    "```"
   ]
  },
  {
   "cell_type": "code",
   "execution_count": 93,
   "metadata": {},
   "outputs": [
    {
     "name": "stdout",
     "output_type": "stream",
     "text": [
      "5.843333333333334 5.8 0.8253012917851409\n"
     ]
    }
   ],
   "source": [
    "# Your code here\n",
    "import numpy as np\n",
    "url = 'https://archive.ics.uci.edu/ml/machine-learning-databases/iris/iris.data'\n",
    "first_column = np.genfromtxt(url, delimiter=',', dtype='float', usecols=[0])\n",
    "\n",
    "mean = np.mean(first_column)\n",
    "median = np.median(first_column)\n",
    "sd = np.std(first_column)\n",
    "print(mean, median, sd)\n"
   ]
  },
  {
   "cell_type": "markdown",
   "metadata": {},
   "source": [
    "23- Create a normalized form of iris‘s sepallength whose values range exactly between 0 and 1 so that the minimum has value 0 and maximum has value 1.\n",
    "- Input:\n",
    "```Python\n",
    "url = 'https://archive.ics.uci.edu/ml/machine-learning-databases/iris/iris.data'\n",
    "iris = np.genfromtxt(url, delimiter=',', dtype='object')\n",
    "```\n",
    "- Desired output:\n",
    "```Python\n",
    "print(S)\n",
    "#> [ 0.222  0.167  0.111  0.083  0.194  0.306  0.083  0.194  0.028  0.167\n",
    "#>   0.306  0.139  0.139  0.     0.417  0.389  0.306  0.222  0.389  0.222\n",
    "#>   0.306  0.222  0.083  0.222  0.139  0.194  0.194  0.25   0.25   0.111\n",
    "#>   0.139  0.306  0.25   0.333  0.167  0.194  0.333  0.167  0.028  0.222\n",
    "#>   0.194  0.056  0.028  0.194  0.222  0.139  0.222  0.083  0.278  0.194\n",
    "#>   0.75   0.583  0.722  0.333  0.611  0.389  0.556  0.167  0.639  0.25\n",
    "#>   0.194  0.444  0.472  0.5    0.361  0.667  0.361  0.417  0.528  0.361\n",
    "#>   0.444  0.5    0.556  0.5    0.583  0.639  0.694  0.667  0.472  0.389\n",
    "#>   0.333  0.333  0.417  0.472  0.306  0.472  0.667  0.556  0.361  0.333\n",
    "#>   0.333  0.5    0.417  0.194  0.361  0.389  0.389  0.528  0.222  0.389\n",
    "#>   0.556  0.417  0.778  0.556  0.611  0.917  0.167  0.833  0.667  0.806\n",
    "#>   0.611  0.583  0.694  0.389  0.417  0.583  0.611  0.944  0.944  0.472\n",
    "#>   0.722  0.361  0.944  0.556  0.667  0.806  0.528  0.5    0.583  0.806\n",
    "#>   0.861  1.     0.583  0.556  0.5    0.944  0.556  0.583  0.472  0.722\n",
    "#>   0.667  0.722  0.417  0.694  0.667  0.667  0.556  0.611  0.528  0.444]\n",
    "```"
   ]
  },
  {
   "cell_type": "code",
   "execution_count": 96,
   "metadata": {},
   "outputs": [
    {
     "data": {
      "text/plain": [
       "array([0.222, 0.167, 0.111, ..., 0.611, 0.528, 0.444])"
      ]
     },
     "execution_count": 96,
     "metadata": {},
     "output_type": "execute_result"
    }
   ],
   "source": [
    "# Your code here\n",
    "import numpy as np\n",
    "url = 'https://archive.ics.uci.edu/ml/machine-learning-databases/iris/iris.data'\n",
    "iris = np.genfromtxt(url, delimiter=',', dtype='object')\n",
    "first_column = np.genfromtxt(url, delimiter=',', dtype='float', usecols=[0])\n",
    "FCmax, FCmin = np.max(first_column), np.min(first_column)\n",
    "S = (first_column - FCmin)/(FCmax - FCmin)\n",
    "S"
   ]
  },
  {
   "cell_type": "markdown",
   "metadata": {},
   "source": [
    "24- Find the number and position of missing values in iris_2d‘s sepallength (1st column)\n",
    "- Input:\n",
    "```Python\n",
    "url = 'https://archive.ics.uci.edu/ml/machine-learning-databases/iris/iris.data'\n",
    "iris_2d = np.genfromtxt(url, delimiter=',', dtype='float')\n",
    "iris_2d[np.random.randint(150, size=20), np.random.randint(4, size=20)] = np.nan\n",
    "```\n",
    "- Desired output:\n",
    "```Python\n",
    "#> Number of missing values: \n",
    "...\n",
    "#> Position of missing values: \n",
    "...\n",
    "```"
   ]
  },
  {
   "cell_type": "code",
   "execution_count": 120,
   "metadata": {},
   "outputs": [
    {
     "name": "stdout",
     "output_type": "stream",
     "text": [
      "Number of missing values: \n",
      " 9\n",
      "Position of missing values: \n",
      " (array([ 20,  33,  34, ..., 120, 122, 145]),)\n"
     ]
    }
   ],
   "source": [
    "# Your code here\n",
    "import numpy as np\n",
    "url = 'https://archive.ics.uci.edu/ml/machine-learning-databases/iris/iris.data'\n",
    "iris_2d = np.genfromtxt(url, delimiter=',', dtype='float')\n",
    "iris_2d[np.random.randint(150, size=20), np.random.randint(4, size=20)] = np.nan\n",
    "Nomv = np.isnan(iris_2d[:, 0]).sum()\n",
    "Pomv = np.where(np.isnan(iris_2d[:, 0]))\n",
    "print(\"Number of missing values: \\n\", Nomv)\n",
    "print(\"Position of missing values: \\n\", Pomv )\n"
   ]
  },
  {
   "cell_type": "markdown",
   "metadata": {},
   "source": [
    "25- Select the rows of iris_2d that does not have any nan value\n",
    "- Input:\n",
    "```Python\n",
    "# Input\n",
    "url = 'https://archive.ics.uci.edu/ml/machine-learning-databases/iris/iris.data'\n",
    "iris_2d = np.genfromtxt(url, delimiter=',', dtype='float', usecols=[0,1,2,3])\n",
    "```"
   ]
  },
  {
   "cell_type": "code",
   "execution_count": 147,
   "metadata": {},
   "outputs": [
    {
     "data": {
      "text/plain": [
       "array([[5.1, 3.5, 1.4, 0.2],\n",
       "       [4.9, 3. , 1.4, 0.2],\n",
       "       [4.7, 3.2, 1.3, 0.2],\n",
       "       ...,\n",
       "       [6.5, 3. , 5.2, 2. ],\n",
       "       [6.2, 3.4, 5.4, 2.3],\n",
       "       [5.9, 3. , 5.1, 1.8]])"
      ]
     },
     "execution_count": 147,
     "metadata": {},
     "output_type": "execute_result"
    }
   ],
   "source": [
    "# Your code here\n",
    "import numpy as np\n",
    "url = 'https://archive.ics.uci.edu/ml/machine-learning-databases/iris/iris.data'\n",
    "iris_2d = np.genfromtxt(url, delimiter=',', dtype='float', usecols=[0,1,2,3])\n",
    "all_nan_row = np.array([~np.any(np.isnan(row)) for row in iris_2d])\n",
    "iris_2d[all_nan_row]\n"
   ]
  },
  {
   "cell_type": "markdown",
   "metadata": {},
   "source": [
    "26- Replace all ccurrences of `nan` with 0 in numpy array\n",
    "- Input\n",
    "```Python\n",
    "url = 'https://archive.ics.uci.edu/ml/machine-learning-databases/iris/iris.data'\n",
    "iris_2d = np.genfromtxt(url, delimiter=',', dtype='float', usecols=[0,1,2,3])\n",
    "iris_2d[np.random.randint(150, size=20), np.random.randint(4, size=20)] = np.nan\n",
    "```"
   ]
  },
  {
   "cell_type": "code",
   "execution_count": 149,
   "metadata": {},
   "outputs": [
    {
     "name": "stdout",
     "output_type": "stream",
     "text": [
      "[[5.1 3.5 1.4 0.2]\n",
      " [4.9 3.  1.4 0.2]\n",
      " [4.7 3.2 1.3 0.2]\n",
      " ...\n",
      " [6.5 3.  5.2 2. ]\n",
      " [6.2 3.4 5.4 2.3]\n",
      " [5.9 3.  5.1 1.8]]\n"
     ]
    }
   ],
   "source": [
    "# Your code here\n",
    "import numpy as np\n",
    "url = 'https://archive.ics.uci.edu/ml/machine-learning-databases/iris/iris.data'\n",
    "iris_2d = np.genfromtxt(url, delimiter=',', dtype='float', usecols=[0,1,2,3])\n",
    "iris_2d[np.random.randint(150, size=20), np.random.randint(4, size=20)] = np.nan\n",
    "iris_2d[np.isnan(iris_2d)] = 0\n",
    "print(iris_2d)"
   ]
  },
  {
   "cell_type": "markdown",
   "metadata": {},
   "source": [
    "27- Bin the petal length (3rd) column of iris_2d to form a text array, such that if petal length is:\n",
    "- Less than 3 –> 'small'\n",
    "- 3-5 –> 'medium'\n",
    "- '>=5 –> 'large'\n",
    "- Input \n",
    "```Python\n",
    "url = 'https://archive.ics.uci.edu/ml/machine-learning-databases/iris/iris.data'\n",
    "iris = np.genfromtxt(url, delimiter=',', dtype='object')\n",
    "names = ('sepallength', 'sepalwidth', 'petallength', 'petalwidth', 'species')\n",
    "```\n",
    "- Desired output:\n",
    "```Python\n",
    "petal_length_cat[:4]\n",
    "#> ['small', 'small', 'small', 'small']\n",
    "```"
   ]
  },
  {
   "cell_type": "code",
   "execution_count": 150,
   "metadata": {},
   "outputs": [
    {
     "data": {
      "text/plain": [
       "['small', 'small', 'small', 'small']"
      ]
     },
     "execution_count": 150,
     "metadata": {},
     "output_type": "execute_result"
    }
   ],
   "source": [
    "# Your code here\n",
    "import numpy as np\n",
    "url = 'https://archive.ics.uci.edu/ml/machine-learning-databases/iris/iris.data'\n",
    "iris = np.genfromtxt(url, delimiter=',', dtype='object')\n",
    "names = ('sepallength', 'sepalwidth', 'petallength', 'petalwidth', 'species')\n",
    "\n",
    "petal_length_bin = np.digitize(iris[:, 2].astype('float'), [0, 3, 5, 10])\n",
    "\n",
    "\n",
    "label_map = {1: 'small', 2: 'medium', 3: 'large', 4: np.nan}\n",
    "petal_length_cat = [label_map[x] for x in petal_length_bin]\n",
    "\n",
    "petal_length_cat[:4]"
   ]
  },
  {
   "cell_type": "markdown",
   "metadata": {},
   "source": [
    "28- Find the position of the first occurrence of a value greater than 1.0 in petalwidth 4th column of iris dataset.\n",
    "- Input \n",
    "```Python\n",
    "url = 'https://archive.ics.uci.edu/ml/machine-learning-databases/iris/iris.data'\n",
    "iris = np.genfromtxt(url, delimiter=',', dtype='object')\n",
    "```\n",
    "- Desired output:\n",
    "```Python\n",
    "#> 50\n",
    "```"
   ]
  },
  {
   "cell_type": "code",
   "execution_count": 151,
   "metadata": {},
   "outputs": [
    {
     "name": "stdout",
     "output_type": "stream",
     "text": [
      "[50]\n"
     ]
    }
   ],
   "source": [
    "# Your code here\n",
    "import numpy as np\n",
    "iris = np.genfromtxt(url, delimiter=',', dtype='object')\n",
    "\n",
    "col3= np.genfromtxt(url, delimiter=',', dtype='float', usecols=[3])\n",
    "\n",
    "pos = np.argwhere(col3>1)[0]\n",
    "\n",
    "print(pos)"
   ]
  },
  {
   "cell_type": "markdown",
   "metadata": {},
   "source": [
    "29- From the array a, replace all values greater than 30 to 30 and less than 10 to 10. \n",
    "- Input:\n",
    "```Python\n",
    "np.random.seed(100)\n",
    "a = np.random.uniform(1,50, 20)\n",
    "```\n",
    "- Desired output:\n",
    "```Python\n",
    "#> [ 27.63  14.64  21.8   30.    10.    10.    30.    30.    10.    29.18  30.\n",
    "#>   11.25  10.08  10.    11.77  30.    30.    10.    30.    14.43]\n",
    "```"
   ]
  },
  {
   "cell_type": "code",
   "execution_count": 153,
   "metadata": {},
   "outputs": [
    {
     "name": "stdout",
     "output_type": "stream",
     "text": [
      "[27.627 14.64  21.801 ... 10.    30.    14.43 ]\n"
     ]
    }
   ],
   "source": [
    "# Your code here\n",
    "import numpy as np\n",
    "np.random.seed(100)\n",
    "a = np.random.uniform(1,50, 20)\n",
    "a[a>30] = 30\n",
    "a[a<10] = 10\n",
    "print(a)"
   ]
  },
  {
   "cell_type": "markdown",
   "metadata": {},
   "source": [
    "30- Import the image from the following URL and convert it to a numpy array. URL = ‘https://upload.wikimedia.org/wikipedia/commons/8/8b/Denali_Mt_McKinley.jpg’\n",
    "- Input\n",
    "```Python\n",
    "from io import BytesIO\n",
    "from PIL import Image\n",
    "import PIL, requests\n",
    "```"
   ]
  },
  {
   "cell_type": "code",
   "execution_count": 161,
   "metadata": {},
   "outputs": [
    {
     "data": {
      "text/plain": [
       "array([[[  9,  72, 125],\n",
       "        [  9,  72, 125],\n",
       "        [  9,  72, 125],\n",
       "        ...,\n",
       "        [ 42, 103, 147],\n",
       "        [ 42, 103, 147],\n",
       "        [ 43, 104, 148]],\n",
       "\n",
       "       [[  9,  72, 125],\n",
       "        [  9,  72, 125],\n",
       "        [ 10,  73, 126],\n",
       "        ...,\n",
       "        [ 42, 103, 147],\n",
       "        [ 42, 103, 147],\n",
       "        [ 43, 104, 148]],\n",
       "\n",
       "       [[  9,  72, 125],\n",
       "        [ 10,  73, 126],\n",
       "        [ 10,  73, 126],\n",
       "        ...,\n",
       "        [ 44, 105, 150],\n",
       "        [ 45, 106, 151],\n",
       "        [ 45, 106, 151]],\n",
       "\n",
       "       ...,\n",
       "\n",
       "       [[ 21,  41,  50],\n",
       "        [ 29,  51,  64],\n",
       "        [ 28,  54,  69],\n",
       "        ...,\n",
       "        [ 27,  58,  79],\n",
       "        [ 22,  53,  74],\n",
       "        [ 19,  47,  69]],\n",
       "\n",
       "       [[ 27,  51,  63],\n",
       "        [ 29,  55,  68],\n",
       "        [ 27,  56,  72],\n",
       "        ...,\n",
       "        [ 33,  70,  97],\n",
       "        [ 27,  64,  91],\n",
       "        [ 22,  57,  85]],\n",
       "\n",
       "       [[ 18,  45,  56],\n",
       "        [ 20,  48,  62],\n",
       "        [ 21,  52,  70],\n",
       "        ...,\n",
       "        [ 15,  51,  77],\n",
       "        [ 12,  48,  74],\n",
       "        [ 11,  45,  72]]], dtype=uint8)"
      ]
     },
     "execution_count": 161,
     "metadata": {},
     "output_type": "execute_result"
    }
   ],
   "source": [
    "# Your code here\n",
    "import numpy as np\n",
    "from io import BytesIO\n",
    "from PIL import Image\n",
    "import PIL, requests\n",
    "\n",
    "\n",
    "url = 'https://upload.wikimedia.org/wikipedia/commons/8/8b/Denali_Mt_McKinley.jpg'\n",
    "response = requests.get(url)\n",
    "image_bytes = BytesIO(response.content)\n",
    "img = Image.open(image_bytes)\n",
    "img_arr = np.asarray(img)\n",
    "img_arr"
   ]
  },
  {
   "cell_type": "code",
   "execution_count": null,
   "metadata": {},
   "outputs": [],
   "source": []
  }
 ],
 "metadata": {
  "hide_input": false,
  "kernelspec": {
   "display_name": "Python 3 (ipykernel)",
   "language": "python",
   "name": "python3"
  },
  "language_info": {
   "codemirror_mode": {
    "name": "ipython",
    "version": 3
   },
   "file_extension": ".py",
   "mimetype": "text/x-python",
   "name": "python",
   "nbconvert_exporter": "python",
   "pygments_lexer": "ipython3",
   "version": "3.9.10"
  },
  "vscode": {
   "interpreter": {
    "hash": "916dbcbb3f70747c44a77c7bcd40155683ae19c65e1c03b4aa3499c5328201f1"
   }
  }
 },
 "nbformat": 4,
 "nbformat_minor": 4
}
